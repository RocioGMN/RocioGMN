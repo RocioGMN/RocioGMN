{
    "cells": [
        {
            "cell_type": "markdown",
            "metadata": {},
            "source": [
                "# Explore here"
            ]
        },
        {
            "cell_type": "code",
            "execution_count": 34,
            "metadata": {},
            "outputs": [
                {
                    "name": "stdout",
                    "output_type": "stream",
                    "text": [
                        "   age        job  marital    education  default housing loan    contact  \\\n",
                        "0   56  housemaid  married     basic.4y       no      no   no  telephone   \n",
                        "1   57   services  married  high.school  unknown      no   no  telephone   \n",
                        "2   37   services  married  high.school       no     yes   no  telephone   \n",
                        "3   40     admin.  married     basic.6y       no      no   no  telephone   \n",
                        "4   56   services  married  high.school       no      no  yes  telephone   \n",
                        "\n",
                        "  month day_of_week  ...  campaign  pdays  previous     poutcome emp.var.rate  \\\n",
                        "0   may         mon  ...         1    999         0  nonexistent          1.1   \n",
                        "1   may         mon  ...         1    999         0  nonexistent          1.1   \n",
                        "2   may         mon  ...         1    999         0  nonexistent          1.1   \n",
                        "3   may         mon  ...         1    999         0  nonexistent          1.1   \n",
                        "4   may         mon  ...         1    999         0  nonexistent          1.1   \n",
                        "\n",
                        "   cons.price.idx  cons.conf.idx  euribor3m  nr.employed   y  \n",
                        "0          93.994          -36.4      4.857       5191.0  no  \n",
                        "1          93.994          -36.4      4.857       5191.0  no  \n",
                        "2          93.994          -36.4      4.857       5191.0  no  \n",
                        "3          93.994          -36.4      4.857       5191.0  no  \n",
                        "4          93.994          -36.4      4.857       5191.0  no  \n",
                        "\n",
                        "[5 rows x 21 columns]\n"
                    ]
                }
            ],
            "source": [
                "# Your code here\n",
                "import pandas as pd\n",
                "\n",
                "# Cargar el archivo CSV en un DataFrame\n",
                "df = pd.read_csv('https://raw.githubusercontent.com/4GeeksAcademy/logistic-regression-project-tutorial/main/bank-marketing-campaign-data.csv', delimiter = \";\")\n",
                "\n",
                "# Visualizar las primeras filas del DataFrame\n",
                "print(df.head())"
            ]
        },
        {
            "cell_type": "code",
            "execution_count": 35,
            "metadata": {},
            "outputs": [
                {
                    "data": {
                        "text/plain": [
                            "(41188, 21)"
                        ]
                    },
                    "execution_count": 35,
                    "metadata": {},
                    "output_type": "execute_result"
                }
            ],
            "source": [
                "# Obtener las dimensiones\n",
                "df.shape"
            ]
        },
        {
            "cell_type": "code",
            "execution_count": 36,
            "metadata": {},
            "outputs": [
                {
                    "name": "stdout",
                    "output_type": "stream",
                    "text": [
                        "<class 'pandas.core.frame.DataFrame'>\n",
                        "RangeIndex: 41188 entries, 0 to 41187\n",
                        "Data columns (total 21 columns):\n",
                        " #   Column          Non-Null Count  Dtype  \n",
                        "---  ------          --------------  -----  \n",
                        " 0   age             41188 non-null  int64  \n",
                        " 1   job             41188 non-null  object \n",
                        " 2   marital         41188 non-null  object \n",
                        " 3   education       41188 non-null  object \n",
                        " 4   default         41188 non-null  object \n",
                        " 5   housing         41188 non-null  object \n",
                        " 6   loan            41188 non-null  object \n",
                        " 7   contact         41188 non-null  object \n",
                        " 8   month           41188 non-null  object \n",
                        " 9   day_of_week     41188 non-null  object \n",
                        " 10  duration        41188 non-null  int64  \n",
                        " 11  campaign        41188 non-null  int64  \n",
                        " 12  pdays           41188 non-null  int64  \n",
                        " 13  previous        41188 non-null  int64  \n",
                        " 14  poutcome        41188 non-null  object \n",
                        " 15  emp.var.rate    41188 non-null  float64\n",
                        " 16  cons.price.idx  41188 non-null  float64\n",
                        " 17  cons.conf.idx   41188 non-null  float64\n",
                        " 18  euribor3m       41188 non-null  float64\n",
                        " 19  nr.employed     41188 non-null  float64\n",
                        " 20  y               41188 non-null  object \n",
                        "dtypes: float64(5), int64(5), object(11)\n",
                        "memory usage: 6.6+ MB\n"
                    ]
                }
            ],
            "source": [
                "# Obtener información sobre tipos de datos y valores no nulos\n",
                "df.info()"
            ]
        },
        {
            "cell_type": "code",
            "execution_count": 37,
            "metadata": {},
            "outputs": [
                {
                    "name": "stdout",
                    "output_type": "stream",
                    "text": [
                        "12\n",
                        "       age          job   marital            education  default housing loan  \\\n",
                        "1265    39  blue-collar   married             basic.6y       no      no   no   \n",
                        "1266    39  blue-collar   married             basic.6y       no      no   no   \n",
                        "12260   36      retired   married              unknown       no      no   no   \n",
                        "12261   36      retired   married              unknown       no      no   no   \n",
                        "14155   27   technician    single  professional.course       no      no   no   \n",
                        "14234   27   technician    single  professional.course       no      no   no   \n",
                        "16819   47   technician  divorced          high.school       no     yes   no   \n",
                        "16956   47   technician  divorced          high.school       no     yes   no   \n",
                        "18464   32   technician    single  professional.course       no     yes   no   \n",
                        "18465   32   technician    single  professional.course       no     yes   no   \n",
                        "20072   55     services   married          high.school  unknown      no   no   \n",
                        "20216   55     services   married          high.school  unknown      no   no   \n",
                        "20531   41   technician   married  professional.course       no     yes   no   \n",
                        "20534   41   technician   married  professional.course       no     yes   no   \n",
                        "25183   39       admin.   married    university.degree       no      no   no   \n",
                        "25217   39       admin.   married    university.degree       no      no   no   \n",
                        "28476   24     services    single          high.school       no     yes   no   \n",
                        "28477   24     services    single          high.school       no     yes   no   \n",
                        "32505   35       admin.   married    university.degree       no     yes   no   \n",
                        "32516   35       admin.   married    university.degree       no     yes   no   \n",
                        "36950   45       admin.   married    university.degree       no      no   no   \n",
                        "36951   45       admin.   married    university.degree       no      no   no   \n",
                        "38255   71      retired    single    university.degree       no      no   no   \n",
                        "38281   71      retired    single    university.degree       no      no   no   \n",
                        "\n",
                        "         contact month day_of_week  ...  campaign  pdays  previous  \\\n",
                        "1265   telephone   may         thu  ...         1    999         0   \n",
                        "1266   telephone   may         thu  ...         1    999         0   \n",
                        "12260  telephone   jul         thu  ...         1    999         0   \n",
                        "12261  telephone   jul         thu  ...         1    999         0   \n",
                        "14155   cellular   jul         mon  ...         2    999         0   \n",
                        "14234   cellular   jul         mon  ...         2    999         0   \n",
                        "16819   cellular   jul         thu  ...         3    999         0   \n",
                        "16956   cellular   jul         thu  ...         3    999         0   \n",
                        "18464   cellular   jul         thu  ...         1    999         0   \n",
                        "18465   cellular   jul         thu  ...         1    999         0   \n",
                        "20072   cellular   aug         mon  ...         1    999         0   \n",
                        "20216   cellular   aug         mon  ...         1    999         0   \n",
                        "20531   cellular   aug         tue  ...         1    999         0   \n",
                        "20534   cellular   aug         tue  ...         1    999         0   \n",
                        "25183   cellular   nov         tue  ...         2    999         0   \n",
                        "25217   cellular   nov         tue  ...         2    999         0   \n",
                        "28476   cellular   apr         tue  ...         1    999         0   \n",
                        "28477   cellular   apr         tue  ...         1    999         0   \n",
                        "32505   cellular   may         fri  ...         4    999         0   \n",
                        "32516   cellular   may         fri  ...         4    999         0   \n",
                        "36950   cellular   jul         thu  ...         1    999         0   \n",
                        "36951   cellular   jul         thu  ...         1    999         0   \n",
                        "38255  telephone   oct         tue  ...         1    999         0   \n",
                        "38281  telephone   oct         tue  ...         1    999         0   \n",
                        "\n",
                        "          poutcome emp.var.rate  cons.price.idx  cons.conf.idx  euribor3m  \\\n",
                        "1265   nonexistent          1.1          93.994          -36.4      4.855   \n",
                        "1266   nonexistent          1.1          93.994          -36.4      4.855   \n",
                        "12260  nonexistent          1.4          93.918          -42.7      4.966   \n",
                        "12261  nonexistent          1.4          93.918          -42.7      4.966   \n",
                        "14155  nonexistent          1.4          93.918          -42.7      4.962   \n",
                        "14234  nonexistent          1.4          93.918          -42.7      4.962   \n",
                        "16819  nonexistent          1.4          93.918          -42.7      4.962   \n",
                        "16956  nonexistent          1.4          93.918          -42.7      4.962   \n",
                        "18464  nonexistent          1.4          93.918          -42.7      4.968   \n",
                        "18465  nonexistent          1.4          93.918          -42.7      4.968   \n",
                        "20072  nonexistent          1.4          93.444          -36.1      4.965   \n",
                        "20216  nonexistent          1.4          93.444          -36.1      4.965   \n",
                        "20531  nonexistent          1.4          93.444          -36.1      4.966   \n",
                        "20534  nonexistent          1.4          93.444          -36.1      4.966   \n",
                        "25183  nonexistent         -0.1          93.200          -42.0      4.153   \n",
                        "25217  nonexistent         -0.1          93.200          -42.0      4.153   \n",
                        "28476  nonexistent         -1.8          93.075          -47.1      1.423   \n",
                        "28477  nonexistent         -1.8          93.075          -47.1      1.423   \n",
                        "32505  nonexistent         -1.8          92.893          -46.2      1.313   \n",
                        "32516  nonexistent         -1.8          92.893          -46.2      1.313   \n",
                        "36950  nonexistent         -2.9          92.469          -33.6      1.072   \n",
                        "36951  nonexistent         -2.9          92.469          -33.6      1.072   \n",
                        "38255  nonexistent         -3.4          92.431          -26.9      0.742   \n",
                        "38281  nonexistent         -3.4          92.431          -26.9      0.742   \n",
                        "\n",
                        "       nr.employed    y  \n",
                        "1265        5191.0   no  \n",
                        "1266        5191.0   no  \n",
                        "12260       5228.1   no  \n",
                        "12261       5228.1   no  \n",
                        "14155       5228.1   no  \n",
                        "14234       5228.1   no  \n",
                        "16819       5228.1   no  \n",
                        "16956       5228.1   no  \n",
                        "18464       5228.1   no  \n",
                        "18465       5228.1   no  \n",
                        "20072       5228.1   no  \n",
                        "20216       5228.1   no  \n",
                        "20531       5228.1   no  \n",
                        "20534       5228.1   no  \n",
                        "25183       5195.8   no  \n",
                        "25217       5195.8   no  \n",
                        "28476       5099.1   no  \n",
                        "28477       5099.1   no  \n",
                        "32505       5099.1   no  \n",
                        "32516       5099.1   no  \n",
                        "36950       5076.2  yes  \n",
                        "36951       5076.2  yes  \n",
                        "38255       5017.5   no  \n",
                        "38281       5017.5   no  \n",
                        "\n",
                        "[24 rows x 21 columns]\n"
                    ]
                }
            ],
            "source": [
                "# control de duplicados\n",
                "\n",
                "duplicados = df.duplicated()\n",
                "num_duplicados = duplicados.sum()\n",
                "print(num_duplicados)\n",
                "\n",
                "duplicadas_incluyendo_primera = df[df.duplicated(keep=False)]\n",
                "print(duplicadas_incluyendo_primera)"
            ]
        },
        {
            "cell_type": "code",
            "execution_count": 38,
            "metadata": {},
            "outputs": [
                {
                    "name": "stdout",
                    "output_type": "stream",
                    "text": [
                        "Shape before dropping duplicates: (41188, 21)\n",
                        "Shape after dropping duplicates: (41176, 21)\n"
                    ]
                }
            ],
            "source": [
                "# Drop duplicates\n",
                "df_no_duplicates = df.drop_duplicates()\n",
                "\n",
                "# If you want to reset the index after dropping duplicates:\n",
                "df_no_duplicates = df_no_duplicates.reset_index(drop=True)\n",
                "\n",
                "# Print the shape before and after to see how many duplicates were removed\n",
                "print(\"Shape before dropping duplicates:\", df.shape)\n",
                "print(\"Shape after dropping duplicates:\", df_no_duplicates.shape)"
            ]
        },
        {
            "cell_type": "code",
            "execution_count": 39,
            "metadata": {},
            "outputs": [
                {
                    "name": "stdout",
                    "output_type": "stream",
                    "text": [
                        "   age        job  marital    education  default housing loan    contact  \\\n",
                        "0   56  housemaid  married     basic.4y       no      no   no  telephone   \n",
                        "1   57   services  married  high.school  unknown      no   no  telephone   \n",
                        "2   37   services  married  high.school       no     yes   no  telephone   \n",
                        "3   40     admin.  married     basic.6y       no      no   no  telephone   \n",
                        "4   56   services  married  high.school       no      no  yes  telephone   \n",
                        "\n",
                        "  month day_of_week  ...  campaign  pdays  previous     poutcome emp.var.rate  \\\n",
                        "0   may         mon  ...         1    999         0  nonexistent          1.1   \n",
                        "1   may         mon  ...         1    999         0  nonexistent          1.1   \n",
                        "2   may         mon  ...         1    999         0  nonexistent          1.1   \n",
                        "3   may         mon  ...         1    999         0  nonexistent          1.1   \n",
                        "4   may         mon  ...         1    999         0  nonexistent          1.1   \n",
                        "\n",
                        "   cons.price.idx  cons.conf.idx  euribor3m  nr.employed   y  \n",
                        "0          93.994          -36.4      4.857       5191.0  no  \n",
                        "1          93.994          -36.4      4.857       5191.0  no  \n",
                        "2          93.994          -36.4      4.857       5191.0  no  \n",
                        "3          93.994          -36.4      4.857       5191.0  no  \n",
                        "4          93.994          -36.4      4.857       5191.0  no  \n",
                        "\n",
                        "[5 rows x 21 columns]\n"
                    ]
                }
            ],
            "source": [
                "# Visualizar las primeras filas del DataFrame\n",
                "print(df_no_duplicates.head())"
            ]
        },
        {
            "cell_type": "code",
            "execution_count": null,
            "metadata": {},
            "outputs": [],
            "source": []
        }
    ],
    "metadata": {
        "kernelspec": {
            "display_name": "Python 3.8.13 64-bit ('3.8.13')",
            "language": "python",
            "name": "python3"
        },
        "language_info": {
            "codemirror_mode": {
                "name": "ipython",
                "version": 3
            },
            "file_extension": ".py",
            "mimetype": "text/x-python",
            "name": "python",
            "nbconvert_exporter": "python",
            "pygments_lexer": "ipython3",
            "version": "3.12.4"
        },
        "orig_nbformat": 4,
        "vscode": {
            "interpreter": {
                "hash": "110cc1dee26208153f2972f08a2ad52b6a56238dc66d48e87fb757ef2996db56"
            }
        }
    },
    "nbformat": 4,
    "nbformat_minor": 2
}
